{
  "nbformat": 4,
  "nbformat_minor": 0,
  "metadata": {
    "colab": {
      "provenance": [],
      "toc_visible": true,
      "authorship_tag": "ABX9TyN/V5dxY8DXSvjrqfb7CxLB",
      "include_colab_link": true
    },
    "kernelspec": {
      "name": "python3",
      "display_name": "Python 3"
    },
    "language_info": {
      "name": "python"
    }
  },
  "cells": [
    {
      "cell_type": "markdown",
      "metadata": {
        "id": "view-in-github",
        "colab_type": "text"
      },
      "source": [
        "<a href=\"https://colab.research.google.com/github/henrymendez24/CS335-Python-Labs/blob/main/SentimentsLab.ipynb\" target=\"_parent\"><img src=\"https://colab.research.google.com/assets/colab-badge.svg\" alt=\"Open In Colab\"/></a>"
      ]
    },
    {
      "cell_type": "code",
      "source": [
        "# sentiment_analyzer.py\n",
        "\n",
        "import re\n",
        "\n",
        "# Clean and tokenize text\n",
        "def clean_text(text):\n",
        "    return re.findall(r'\\b[a-z]+\\b', text.lower())\n",
        "\n",
        "# 1. Positive and negative word sets (≥15 each)\n",
        "positive_words = {\n",
        "    'happy', 'joy', 'awesome', 'great', 'good', 'fantastic', 'love', 'like', 'excellent',\n",
        "    'amazing', 'wonderful', 'pleasant', 'smile', 'cheerful', 'delightful'\n",
        "}\n",
        "\n",
        "negative_words = {\n",
        "    'sad', 'angry', 'terrible', 'awful', 'bad', 'hate', 'horrible', 'worse', 'worst',\n",
        "    'depressing', 'disgusting', 'painful', 'annoying', 'cry', 'frustrated'\n",
        "}\n",
        "\n",
        "# 2. Print lexicons\n",
        "print(\"Positive Words:\", positive_words)\n",
        "print(\"Negative Words:\", negative_words)\n",
        "\n",
        "# 3. Interactive testing loop\n",
        "print(\"\\nEnter sentences to analyze sentiment (type 'exit' to quit):\")\n",
        "while True:\n",
        "    text = input(\"> \").strip()\n",
        "    if text.lower() in ('exit', 'quit'):\n",
        "        print(\"Goodbye!\")\n",
        "        break\n",
        "\n",
        "    tokens = clean_text(text)\n",
        "    pos_count = sum(1 for word in tokens if word in positive_words)\n",
        "    neg_count = sum(1 for word in tokens if word in negative_words)\n",
        "    score = pos_count - neg_count\n",
        "\n",
        "    # 4. Sentiment label\n",
        "    if score > 0:\n",
        "        sentiment = \"Positive\"\n",
        "    elif score < 0:\n",
        "        sentiment = \"Negative\"\n",
        "    else:\n",
        "        sentiment = \"Neutral\"\n",
        "\n",
        "    # 4. Output results\n",
        "    print(\"Tokens:\", tokens)\n",
        "    print(f\"+ matches: {pos_count}, - matches: {neg_count}\")\n",
        "    print(f\"Score: {score} => {sentiment}\\n\")\n",
        "\n",
        "# 5. Reflection:\n",
        "# This method is simple and easy to implement. It gives a rough idea of sentiment based on word matches.\n",
        "# But it doesn’t understand context, sarcasm, or negation (like “not good”), which limits accuracy.\n"
      ],
      "metadata": {
        "colab": {
          "base_uri": "https://localhost:8080/"
        },
        "id": "y783a6jDgMO4",
        "outputId": "4af27283-2bf6-4e72-fdc0-19f2c7cbda94"
      },
      "execution_count": null,
      "outputs": [
        {
          "output_type": "stream",
          "name": "stdout",
          "text": [
            "Positive Words: {'amazing', 'happy', 'like', 'wonderful', 'joy', 'great', 'awesome', 'love', 'pleasant', 'excellent', 'smile', 'cheerful', 'good', 'delightful', 'fantastic'}\n",
            "Negative Words: {'terrible', 'hate', 'depressing', 'worst', 'angry', 'bad', 'painful', 'annoying', 'frustrated', 'horrible', 'sad', 'cry', 'worse', 'awful', 'disgusting'}\n",
            "\n",
            "Enter sentences to analyze sentiment (type 'exit' to quit):\n",
            "> terrible\n",
            "Tokens: ['terrible']\n",
            "+ matches: 0, - matches: 1\n",
            "Score: -1 => Negative\n",
            "\n",
            "> im bored\n",
            "Tokens: ['im', 'bored']\n",
            "+ matches: 0, - matches: 0\n",
            "Score: 0 => Neutral\n",
            "\n",
            "> pain\n",
            "Tokens: ['pain']\n",
            "+ matches: 0, - matches: 0\n",
            "Score: 0 => Neutral\n",
            "\n",
            "> painful\n",
            "Tokens: ['painful']\n",
            "+ matches: 0, - matches: 1\n",
            "Score: -1 => Negative\n",
            "\n"
          ]
        }
      ]
    }
  ]
}